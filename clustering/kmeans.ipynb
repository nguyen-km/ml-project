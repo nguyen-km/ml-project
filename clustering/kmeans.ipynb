{
 "cells": [
  {
   "cell_type": "code",
   "execution_count": 1,
   "id": "bb46aa47-91de-4250-b330-c0e57369034c",
   "metadata": {
    "tags": []
   },
   "outputs": [],
   "source": [
    "import pandas as pd\n",
    "from sklearn.cluster import KMeans\n",
    "import matplotlib.pyplot as plt\n",
    "import numpy as np\n",
    "from sklearn.metrics import silhouette_samples"
   ]
  },
  {
   "cell_type": "code",
   "execution_count": 2,
   "id": "2e40625a-2ced-4a54-bdbd-ee5581c3e4d6",
   "metadata": {
    "tags": []
   },
   "outputs": [],
   "source": [
    "df = pd.read_csv('/Users/kevnguyen/Library/CloudStorage/GoogleDrive-keng2413@colorado.edu/My Drive/CSCI5622/project/data/final_clean_data.csv', \n",
    "                index_col=0)"
   ]
  },
  {
   "cell_type": "code",
   "execution_count": 3,
   "id": "296b83b1-2ed9-4c78-a0f9-0e65a2fadfa5",
   "metadata": {
    "tags": []
   },
   "outputs": [
    {
     "data": {
      "text/html": [
       "<div>\n",
       "<style scoped>\n",
       "    .dataframe tbody tr th:only-of-type {\n",
       "        vertical-align: middle;\n",
       "    }\n",
       "\n",
       "    .dataframe tbody tr th {\n",
       "        vertical-align: top;\n",
       "    }\n",
       "\n",
       "    .dataframe thead th {\n",
       "        text-align: right;\n",
       "    }\n",
       "</style>\n",
       "<table border=\"1\" class=\"dataframe\">\n",
       "  <thead>\n",
       "    <tr style=\"text-align: right;\">\n",
       "      <th></th>\n",
       "      <th>Country / Territory</th>\n",
       "      <th>ISO3</th>\n",
       "      <th>CPI score 2021</th>\n",
       "      <th>FH Political Rights Score</th>\n",
       "      <th>FH Civil Liberties Score</th>\n",
       "      <th>FH Status</th>\n",
       "      <th>Net FDI</th>\n",
       "      <th>GDP</th>\n",
       "      <th>Unemployment Rate (%)</th>\n",
       "      <th>Refugee Population</th>\n",
       "      <th>Infant Mortality Rate</th>\n",
       "      <th>Population</th>\n",
       "      <th>Obligations</th>\n",
       "      <th>Aid Level</th>\n",
       "    </tr>\n",
       "  </thead>\n",
       "  <tbody>\n",
       "    <tr>\n",
       "      <th>0</th>\n",
       "      <td>Denmark</td>\n",
       "      <td>DNK</td>\n",
       "      <td>88</td>\n",
       "      <td>1.0</td>\n",
       "      <td>1.0</td>\n",
       "      <td>F</td>\n",
       "      <td>1.582722e+09</td>\n",
       "      <td>3.552224e+11</td>\n",
       "      <td>5.64</td>\n",
       "      <td>5.000000</td>\n",
       "      <td>3.1</td>\n",
       "      <td>5831404.0</td>\n",
       "      <td>16986.0</td>\n",
       "      <td>Low Aid</td>\n",
       "    </tr>\n",
       "    <tr>\n",
       "      <th>1</th>\n",
       "      <td>Finland</td>\n",
       "      <td>FIN</td>\n",
       "      <td>88</td>\n",
       "      <td>1.0</td>\n",
       "      <td>1.0</td>\n",
       "      <td>F</td>\n",
       "      <td>-2.368877e+09</td>\n",
       "      <td>2.718918e+11</td>\n",
       "      <td>7.76</td>\n",
       "      <td>122308.012195</td>\n",
       "      <td>1.9</td>\n",
       "      <td>5529543.0</td>\n",
       "      <td>3386.0</td>\n",
       "      <td>Low Aid</td>\n",
       "    </tr>\n",
       "    <tr>\n",
       "      <th>2</th>\n",
       "      <td>New Zealand</td>\n",
       "      <td>NZL</td>\n",
       "      <td>88</td>\n",
       "      <td>1.0</td>\n",
       "      <td>1.0</td>\n",
       "      <td>F</td>\n",
       "      <td>4.057542e+09</td>\n",
       "      <td>2.117345e+11</td>\n",
       "      <td>4.59</td>\n",
       "      <td>35.000000</td>\n",
       "      <td>3.9</td>\n",
       "      <td>5090200.0</td>\n",
       "      <td>4707.0</td>\n",
       "      <td>Low Aid</td>\n",
       "    </tr>\n",
       "    <tr>\n",
       "      <th>3</th>\n",
       "      <td>Norway</td>\n",
       "      <td>NOR</td>\n",
       "      <td>85</td>\n",
       "      <td>1.0</td>\n",
       "      <td>1.0</td>\n",
       "      <td>F</td>\n",
       "      <td>-4.102660e+09</td>\n",
       "      <td>3.621983e+11</td>\n",
       "      <td>4.42</td>\n",
       "      <td>5.000000</td>\n",
       "      <td>1.8</td>\n",
       "      <td>5379475.0</td>\n",
       "      <td>21386.0</td>\n",
       "      <td>Low Aid</td>\n",
       "    </tr>\n",
       "    <tr>\n",
       "      <th>4</th>\n",
       "      <td>Singapore</td>\n",
       "      <td>SGP</td>\n",
       "      <td>85</td>\n",
       "      <td>4.0</td>\n",
       "      <td>4.0</td>\n",
       "      <td>PF</td>\n",
       "      <td>7.475051e+10</td>\n",
       "      <td>3.452959e+11</td>\n",
       "      <td>4.10</td>\n",
       "      <td>37.000000</td>\n",
       "      <td>1.8</td>\n",
       "      <td>5685807.0</td>\n",
       "      <td>1728315.0</td>\n",
       "      <td>Low Aid</td>\n",
       "    </tr>\n",
       "  </tbody>\n",
       "</table>\n",
       "</div>"
      ],
      "text/plain": [
       "  Country / Territory ISO3  CPI score 2021  FH Political Rights Score  \\\n",
       "0             Denmark  DNK              88                        1.0   \n",
       "1             Finland  FIN              88                        1.0   \n",
       "2         New Zealand  NZL              88                        1.0   \n",
       "3              Norway  NOR              85                        1.0   \n",
       "4           Singapore  SGP              85                        4.0   \n",
       "\n",
       "   FH Civil Liberties Score FH Status       Net FDI           GDP  \\\n",
       "0                       1.0         F  1.582722e+09  3.552224e+11   \n",
       "1                       1.0         F -2.368877e+09  2.718918e+11   \n",
       "2                       1.0         F  4.057542e+09  2.117345e+11   \n",
       "3                       1.0         F -4.102660e+09  3.621983e+11   \n",
       "4                       4.0        PF  7.475051e+10  3.452959e+11   \n",
       "\n",
       "   Unemployment Rate (%)  Refugee Population  Infant Mortality Rate  \\\n",
       "0                   5.64            5.000000                    3.1   \n",
       "1                   7.76       122308.012195                    1.9   \n",
       "2                   4.59           35.000000                    3.9   \n",
       "3                   4.42            5.000000                    1.8   \n",
       "4                   4.10           37.000000                    1.8   \n",
       "\n",
       "   Population  Obligations Aid Level  \n",
       "0   5831404.0      16986.0   Low Aid  \n",
       "1   5529543.0       3386.0   Low Aid  \n",
       "2   5090200.0       4707.0   Low Aid  \n",
       "3   5379475.0      21386.0   Low Aid  \n",
       "4   5685807.0    1728315.0   Low Aid  "
      ]
     },
     "execution_count": 3,
     "metadata": {},
     "output_type": "execute_result"
    }
   ],
   "source": [
    "df.head()"
   ]
  },
  {
   "cell_type": "code",
   "execution_count": 4,
   "id": "172d9d84-5fdc-417a-87fb-1c36ca6715ed",
   "metadata": {
    "tags": []
   },
   "outputs": [
    {
     "data": {
      "text/html": [
       "<div>\n",
       "<style scoped>\n",
       "    .dataframe tbody tr th:only-of-type {\n",
       "        vertical-align: middle;\n",
       "    }\n",
       "\n",
       "    .dataframe tbody tr th {\n",
       "        vertical-align: top;\n",
       "    }\n",
       "\n",
       "    .dataframe thead th {\n",
       "        text-align: right;\n",
       "    }\n",
       "</style>\n",
       "<table border=\"1\" class=\"dataframe\">\n",
       "  <thead>\n",
       "    <tr style=\"text-align: right;\">\n",
       "      <th></th>\n",
       "      <th>CPI score 2021</th>\n",
       "      <th>FH Political Rights Score</th>\n",
       "      <th>FH Civil Liberties Score</th>\n",
       "      <th>Net FDI</th>\n",
       "      <th>GDP</th>\n",
       "      <th>Unemployment Rate (%)</th>\n",
       "      <th>Refugee Population</th>\n",
       "      <th>Infant Mortality Rate</th>\n",
       "      <th>Population</th>\n",
       "      <th>Obligations</th>\n",
       "    </tr>\n",
       "  </thead>\n",
       "  <tbody>\n",
       "    <tr>\n",
       "      <th>0</th>\n",
       "      <td>88</td>\n",
       "      <td>1.0</td>\n",
       "      <td>1.0</td>\n",
       "      <td>1.582722e+09</td>\n",
       "      <td>3.552224e+11</td>\n",
       "      <td>5.640</td>\n",
       "      <td>5.000000e+00</td>\n",
       "      <td>3.1</td>\n",
       "      <td>5831404.0</td>\n",
       "      <td>16986.0</td>\n",
       "    </tr>\n",
       "    <tr>\n",
       "      <th>1</th>\n",
       "      <td>88</td>\n",
       "      <td>1.0</td>\n",
       "      <td>1.0</td>\n",
       "      <td>-2.368877e+09</td>\n",
       "      <td>2.718918e+11</td>\n",
       "      <td>7.760</td>\n",
       "      <td>1.223080e+05</td>\n",
       "      <td>1.9</td>\n",
       "      <td>5529543.0</td>\n",
       "      <td>3386.0</td>\n",
       "    </tr>\n",
       "    <tr>\n",
       "      <th>2</th>\n",
       "      <td>88</td>\n",
       "      <td>1.0</td>\n",
       "      <td>1.0</td>\n",
       "      <td>4.057542e+09</td>\n",
       "      <td>2.117345e+11</td>\n",
       "      <td>4.590</td>\n",
       "      <td>3.500000e+01</td>\n",
       "      <td>3.9</td>\n",
       "      <td>5090200.0</td>\n",
       "      <td>4707.0</td>\n",
       "    </tr>\n",
       "    <tr>\n",
       "      <th>3</th>\n",
       "      <td>85</td>\n",
       "      <td>1.0</td>\n",
       "      <td>1.0</td>\n",
       "      <td>-4.102660e+09</td>\n",
       "      <td>3.621983e+11</td>\n",
       "      <td>4.420</td>\n",
       "      <td>5.000000e+00</td>\n",
       "      <td>1.8</td>\n",
       "      <td>5379475.0</td>\n",
       "      <td>21386.0</td>\n",
       "    </tr>\n",
       "    <tr>\n",
       "      <th>4</th>\n",
       "      <td>85</td>\n",
       "      <td>4.0</td>\n",
       "      <td>4.0</td>\n",
       "      <td>7.475051e+10</td>\n",
       "      <td>3.452959e+11</td>\n",
       "      <td>4.100</td>\n",
       "      <td>3.700000e+01</td>\n",
       "      <td>1.8</td>\n",
       "      <td>5685807.0</td>\n",
       "      <td>1728315.0</td>\n",
       "    </tr>\n",
       "    <tr>\n",
       "      <th>...</th>\n",
       "      <td>...</td>\n",
       "      <td>...</td>\n",
       "      <td>...</td>\n",
       "      <td>...</td>\n",
       "      <td>...</td>\n",
       "      <td>...</td>\n",
       "      <td>...</td>\n",
       "      <td>...</td>\n",
       "      <td>...</td>\n",
       "      <td>...</td>\n",
       "    </tr>\n",
       "    <tr>\n",
       "      <th>174</th>\n",
       "      <td>16</td>\n",
       "      <td>7.0</td>\n",
       "      <td>6.0</td>\n",
       "      <td>7.469824e+09</td>\n",
       "      <td>3.502181e+11</td>\n",
       "      <td>13.391</td>\n",
       "      <td>3.243300e+04</td>\n",
       "      <td>45.7</td>\n",
       "      <td>32284046.0</td>\n",
       "      <td>556544348.0</td>\n",
       "    </tr>\n",
       "    <tr>\n",
       "      <th>175</th>\n",
       "      <td>14</td>\n",
       "      <td>7.0</td>\n",
       "      <td>6.0</td>\n",
       "      <td>-4.560000e+08</td>\n",
       "      <td>3.502181e+11</td>\n",
       "      <td>6.627</td>\n",
       "      <td>1.711120e+05</td>\n",
       "      <td>21.1</td>\n",
       "      <td>28490453.0</td>\n",
       "      <td>163386454.0</td>\n",
       "    </tr>\n",
       "    <tr>\n",
       "      <th>176</th>\n",
       "      <td>13</td>\n",
       "      <td>7.0</td>\n",
       "      <td>7.0</td>\n",
       "      <td>4.640000e+08</td>\n",
       "      <td>6.883000e+09</td>\n",
       "      <td>19.723</td>\n",
       "      <td>8.123560e+05</td>\n",
       "      <td>72.7</td>\n",
       "      <td>16537016.0</td>\n",
       "      <td>689600465.0</td>\n",
       "    </tr>\n",
       "    <tr>\n",
       "      <th>177</th>\n",
       "      <td>13</td>\n",
       "      <td>7.0</td>\n",
       "      <td>7.0</td>\n",
       "      <td>7.469824e+09</td>\n",
       "      <td>1.107980e+10</td>\n",
       "      <td>10.257</td>\n",
       "      <td>6.702910e+06</td>\n",
       "      <td>18.4</td>\n",
       "      <td>20772595.0</td>\n",
       "      <td>837125251.0</td>\n",
       "    </tr>\n",
       "    <tr>\n",
       "      <th>178</th>\n",
       "      <td>11</td>\n",
       "      <td>7.0</td>\n",
       "      <td>7.0</td>\n",
       "      <td>1.750000e+07</td>\n",
       "      <td>3.502181e+11</td>\n",
       "      <td>14.030</td>\n",
       "      <td>2.188785e+06</td>\n",
       "      <td>63.3</td>\n",
       "      <td>10606227.0</td>\n",
       "      <td>759675080.0</td>\n",
       "    </tr>\n",
       "  </tbody>\n",
       "</table>\n",
       "<p>168 rows × 10 columns</p>\n",
       "</div>"
      ],
      "text/plain": [
       "     CPI score 2021  FH Political Rights Score  FH Civil Liberties Score  \\\n",
       "0                88                        1.0                       1.0   \n",
       "1                88                        1.0                       1.0   \n",
       "2                88                        1.0                       1.0   \n",
       "3                85                        1.0                       1.0   \n",
       "4                85                        4.0                       4.0   \n",
       "..              ...                        ...                       ...   \n",
       "174              16                        7.0                       6.0   \n",
       "175              14                        7.0                       6.0   \n",
       "176              13                        7.0                       7.0   \n",
       "177              13                        7.0                       7.0   \n",
       "178              11                        7.0                       7.0   \n",
       "\n",
       "          Net FDI           GDP  Unemployment Rate (%)  Refugee Population  \\\n",
       "0    1.582722e+09  3.552224e+11                  5.640        5.000000e+00   \n",
       "1   -2.368877e+09  2.718918e+11                  7.760        1.223080e+05   \n",
       "2    4.057542e+09  2.117345e+11                  4.590        3.500000e+01   \n",
       "3   -4.102660e+09  3.621983e+11                  4.420        5.000000e+00   \n",
       "4    7.475051e+10  3.452959e+11                  4.100        3.700000e+01   \n",
       "..            ...           ...                    ...                 ...   \n",
       "174  7.469824e+09  3.502181e+11                 13.391        3.243300e+04   \n",
       "175 -4.560000e+08  3.502181e+11                  6.627        1.711120e+05   \n",
       "176  4.640000e+08  6.883000e+09                 19.723        8.123560e+05   \n",
       "177  7.469824e+09  1.107980e+10                 10.257        6.702910e+06   \n",
       "178  1.750000e+07  3.502181e+11                 14.030        2.188785e+06   \n",
       "\n",
       "     Infant Mortality Rate  Population  Obligations  \n",
       "0                      3.1   5831404.0      16986.0  \n",
       "1                      1.9   5529543.0       3386.0  \n",
       "2                      3.9   5090200.0       4707.0  \n",
       "3                      1.8   5379475.0      21386.0  \n",
       "4                      1.8   5685807.0    1728315.0  \n",
       "..                     ...         ...          ...  \n",
       "174                   45.7  32284046.0  556544348.0  \n",
       "175                   21.1  28490453.0  163386454.0  \n",
       "176                   72.7  16537016.0  689600465.0  \n",
       "177                   18.4  20772595.0  837125251.0  \n",
       "178                   63.3  10606227.0  759675080.0  \n",
       "\n",
       "[168 rows x 10 columns]"
      ]
     },
     "execution_count": 4,
     "metadata": {},
     "output_type": "execute_result"
    }
   ],
   "source": [
    "X = df.select_dtypes(include=np.number) # Keep only numeric data\n",
    "X"
   ]
  },
  {
   "cell_type": "code",
   "execution_count": 5,
   "id": "f486adc3-c0fd-4076-a0b1-85dfc965560c",
   "metadata": {
    "tags": []
   },
   "outputs": [
    {
     "data": {
      "text/plain": [
       "(168, 10)"
      ]
     },
     "execution_count": 5,
     "metadata": {},
     "output_type": "execute_result"
    }
   ],
   "source": [
    "X.shape"
   ]
  },
  {
   "cell_type": "code",
   "execution_count": 6,
   "id": "6f958fe9-6b5b-4285-b939-ee5464da566a",
   "metadata": {
    "tags": []
   },
   "outputs": [
    {
     "data": {
      "image/png": "[encoded data removed]",
      "text/plain": [
       "<Figure size 640x480 with 1 Axes>"
      ]
     },
     "metadata": {},
     "output_type": "display_data"
    }
   ],
   "source": [
    "# Elbow Method\n",
    "inertia = []\n",
    "n = 10\n",
    "for k in range(1, n+1):\n",
    "    kmeans = KMeans(k, n_init = 'auto')\n",
    "    kmeans.fit(X)\n",
    "    inertia.append(kmeans.inertia_)\n",
    "\n",
    "plt.plot(range(1,n+1), inertia, marker='o')\n",
    "plt.xlabel('Number of clusters')\n",
    "plt.ylabel('Inertia')\n",
    "plt.show()"
   ]
  },
  {
   "cell_type": "code",
   "execution_count": 35,
   "id": "37185795-1236-4df1-9864-a1a2582c55f2",
   "metadata": {
    "tags": []
   },
   "outputs": [
    {
     "data": {
      "text/html": [
       "<style>#sk-container-id-3 {color: black;background-color: white;}#sk-container-id-3 pre{padding: 0;}#sk-container-id-3 div.sk-toggleable {background-color: white;}#sk-container-id-3 label.sk-toggleable__label {cursor: pointer;display: block;width: 100%;margin-bottom: 0;padding: 0.3em;box-sizing: border-box;text-align: center;}#sk-container-id-3 label.sk-toggleable__label-arrow:before {content: \"▸\";float: left;margin-right: 0.25em;color: #696969;}#sk-container-id-3 label.sk-toggleable__label-arrow:hover:before {color: black;}#sk-container-id-3 div.sk-estimator:hover label.sk-toggleable__label-arrow:before {color: black;}#sk-container-id-3 div.sk-toggleable__content {max-height: 0;max-width: 0;overflow: hidden;text-align: left;background-color: #f0f8ff;}#sk-container-id-3 div.sk-toggleable__content pre {margin: 0.2em;color: black;border-radius: 0.25em;background-color: #f0f8ff;}#sk-container-id-3 input.sk-toggleable__control:checked~div.sk-toggleable__content {max-height: 200px;max-width: 100%;overflow: auto;}#sk-container-id-3 input.sk-toggleable__control:checked~label.sk-toggleable__label-arrow:before {content: \"▾\";}#sk-container-id-3 div.sk-estimator input.sk-toggleable__control:checked~label.sk-toggleable__label {background-color: #d4ebff;}#sk-container-id-3 div.sk-label input.sk-toggleable__control:checked~label.sk-toggleable__label {background-color: #d4ebff;}#sk-container-id-3 input.sk-hidden--visually {border: 0;clip: rect(1px 1px 1px 1px);clip: rect(1px, 1px, 1px, 1px);height: 1px;margin: -1px;overflow: hidden;padding: 0;position: absolute;width: 1px;}#sk-container-id-3 div.sk-estimator {font-family: monospace;background-color: #f0f8ff;border: 1px dotted black;border-radius: 0.25em;box-sizing: border-box;margin-bottom: 0.5em;}#sk-container-id-3 div.sk-estimator:hover {background-color: #d4ebff;}#sk-container-id-3 div.sk-parallel-item::after {content: \"\";width: 100%;border-bottom: 1px solid gray;flex-grow: 1;}#sk-container-id-3 div.sk-label:hover label.sk-toggleable__label {background-color: #d4ebff;}#sk-container-id-3 div.sk-serial::before {content: \"\";position: absolute;border-left: 1px solid gray;box-sizing: border-box;top: 0;bottom: 0;left: 50%;z-index: 0;}#sk-container-id-3 div.sk-serial {display: flex;flex-direction: column;align-items: center;background-color: white;padding-right: 0.2em;padding-left: 0.2em;position: relative;}#sk-container-id-3 div.sk-item {position: relative;z-index: 1;}#sk-container-id-3 div.sk-parallel {display: flex;align-items: stretch;justify-content: center;background-color: white;position: relative;}#sk-container-id-3 div.sk-item::before, #sk-container-id-3 div.sk-parallel-item::before {content: \"\";position: absolute;border-left: 1px solid gray;box-sizing: border-box;top: 0;bottom: 0;left: 50%;z-index: -1;}#sk-container-id-3 div.sk-parallel-item {display: flex;flex-direction: column;z-index: 1;position: relative;background-color: white;}#sk-container-id-3 div.sk-parallel-item:first-child::after {align-self: flex-end;width: 50%;}#sk-container-id-3 div.sk-parallel-item:last-child::after {align-self: flex-start;width: 50%;}#sk-container-id-3 div.sk-parallel-item:only-child::after {width: 0;}#sk-container-id-3 div.sk-dashed-wrapped {border: 1px dashed gray;margin: 0 0.4em 0.5em 0.4em;box-sizing: border-box;padding-bottom: 0.4em;background-color: white;}#sk-container-id-3 div.sk-label label {font-family: monospace;font-weight: bold;display: inline-block;line-height: 1.2em;}#sk-container-id-3 div.sk-label-container {text-align: center;}#sk-container-id-3 div.sk-container {/* jupyter's `normalize.less` sets `[hidden] { display: none; }` but bootstrap.min.css set `[hidden] { display: none !important; }` so we also need the `!important` here to be able to override the default hidden behavior on the sphinx rendered scikit-learn.org. See: https://github.com/scikit-learn/scikit-learn/issues/21755 */display: inline-block !important;position: relative;}#sk-container-id-3 div.sk-text-repr-fallback {display: none;}</style><div id=\"sk-container-id-3\" class=\"sk-top-container\"><div class=\"sk-text-repr-fallback\"><pre>KMeans(n_clusters=3, n_init=&#x27;auto&#x27;)</pre><b>In a Jupyter environment, please rerun this cell to show the HTML representation or trust the notebook. <br />On GitHub, the HTML representation is unable to render, please try loading this page with nbviewer.org.</b></div><div class=\"sk-container\" hidden><div class=\"sk-item\"><div class=\"sk-estimator sk-toggleable\"><input class=\"sk-toggleable__control sk-hidden--visually\" id=\"sk-estimator-id-3\" type=\"checkbox\" checked><label for=\"sk-estimator-id-3\" class=\"sk-toggleable__label sk-toggleable__label-arrow\">KMeans</label><div class=\"sk-toggleable__content\"><pre>KMeans(n_clusters=3, n_init=&#x27;auto&#x27;)</pre></div></div></div></div></div>"
      ],
      "text/plain": [
       "KMeans(n_clusters=3, n_init='auto')"
      ]
     },
     "execution_count": 35,
     "metadata": {},
     "output_type": "execute_result"
    }
   ],
   "source": [
    "k_opt = 3 # select optimal k at the 'elbow'\n",
    "kmeans = KMeans(k_opt, n_init = 'auto')\n",
    "kmeans.fit(X)"
   ]
  },
  {
   "cell_type": "code",
   "execution_count": 8,
   "id": "c807212f-faae-48e6-be42-214b04c34787",
   "metadata": {
    "tags": []
   },
   "outputs": [
    {
     "data": {
      "text/plain": [
       "array([[4.01602564e+01, 3.93589744e+00, 3.78846154e+00, 3.88153849e+09,\n",
       "        1.22975733e+11, 8.58385233e+00, 1.30161487e+05, 2.30602564e+01,\n",
       "        2.29370946e+07, 2.26176643e+08],\n",
       "       [4.50000000e+01, 7.00000000e+00, 6.00000000e+00, 2.53095616e+11,\n",
       "        1.46876739e+13, 5.00000000e+00, 1.75361000e+05, 5.50000000e+00,\n",
       "        1.41110000e+09, 3.21736110e+07],\n",
       "       [5.97272727e+01, 1.81818182e+00, 2.09090909e+00, 3.60286180e+10,\n",
       "        2.26952282e+12, 7.85790907e+00, 6.10845455e+03, 6.19090909e+00,\n",
       "        2.04816617e+08, 4.99054677e+07]])"
      ]
     },
     "execution_count": 8,
     "metadata": {},
     "output_type": "execute_result"
    }
   ],
   "source": [
    "kmeans.cluster_centers_"
   ]
  },
  {
   "cell_type": "code",
   "execution_count": 41,
   "id": "95610831-ec91-4089-b866-9846d1bf5a29",
   "metadata": {
    "tags": []
   },
   "outputs": [
    {
     "data": {
      "image/png": "[encoded data removed]",
      "text/plain": [
       "<Figure size 640x480 with 1 Axes>"
      ]
     },
     "metadata": {},
     "output_type": "display_data"
    }
   ],
   "source": [
    "y_pred = kmeans.fit_predict(X)\n",
    "cluster_labels = np.unique(y_pred)\n",
    "\n",
    "silhouette_vals = silhouette_samples(X, y_pred)\n",
    "\n",
    "y_ax_lower, y_ax_upper = 0, 0\n",
    "yticks = []\n",
    "for label in cluster_labels:\n",
    "    c_silhouette_vals = silhouette_vals[y_pred == label]\n",
    "    c_silhouette_vals.sort()\n",
    "    y_ax_upper += len(c_silhouette_vals)\n",
    "    plt.barh(range(y_ax_lower, y_ax_upper),\n",
    "             c_silhouette_vals)\n",
    "    yticks.append((y_ax_lower + y_ax_upper) / 2.)\n",
    "    y_ax_lower += len(c_silhouette_vals)\n",
    "    \n",
    "silhouette_avg = np.mean(silhouette_vals)\n",
    "plt.axvline(silhouette_avg, color=\"red\",linestyle=\"--\") # plot mean silhouette value as vertical line\n",
    "plt.yticks(yticks, cluster_labels + 1)\n",
    "plt.ylabel('Cluster')\n",
    "plt.xlabel('Silhouette coefficient')\n",
    "plt.show()\n"
   ]
  },
  {
   "cell_type": "code",
   "execution_count": null,
   "id": "13b9116a-0f9f-4019-a5d3-8541cb5e3eaf",
   "metadata": {},
   "outputs": [],
   "source": []
  }
 ],
 "metadata": {
  "kernelspec": {
   "display_name": "Python 3 (ipykernel)",
   "language": "python",
   "name": "python3"
  },
  "language_info": {
   "codemirror_mode": {
    "name": "ipython",
    "version": 3
   },
   "file_extension": ".py",
   "mimetype": "text/x-python",
   "name": "python",
   "nbconvert_exporter": "python",
   "pygments_lexer": "ipython3",
   "version": "3.11.2"
  }
 },
 "nbformat": 4,
 "nbformat_minor": 5
}
